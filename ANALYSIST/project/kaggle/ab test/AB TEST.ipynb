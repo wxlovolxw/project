{
 "cells": [
  {
   "cell_type": "markdown",
   "id": "fc48f6db",
   "metadata": {},
   "source": [
    "# AB TEST"
   ]
  },
  {
   "cell_type": "markdown",
   "id": "573ca956",
   "metadata": {},
   "source": [
    "### About Dataset (예시의 데이터셋에 관해서)"
   ]
  },
  {
   "cell_type": "markdown",
   "id": "0670374f",
   "metadata": {},
   "source": [
    "The AB Testing Dataset provided here is a self-generated synthetic dataset created using Random Sampling techniques provided by the Numpy Package. The dataset emulates information regarding visits made by users on an imaginary retail website around the United Kingdom. The users are found to be in two groups, A and B, each of which represents a control group and treatment group respectively. Imagine that the retail company needs to test out a new change on the website which is, \"Do people spend time on a website if the website background color is White or Black\". This question is asked to achieve the end goal of the analysis which is to improve user engagement, whether it is through a purchase, signing up, etc.\n",
    "\n",
    "So, in this scenario, let the color 'White' be assigned to Group A which is the default setting for the background color on the website, representing the control group. Also, let the color 'Black' be equivalent to Group B which is the newer setting to be tested. And the main goal is to understand whether there is a significant improvement in website views if the newer setting is applied. This can be answered through the use of A/B Testing.\n",
    "\n",
    "This dataset is placed to help with practicing A/B Testing as it is a very important topic for Data Analyst prospects. The column description is given as follows:\n",
    "\n",
    "넘파이 패키지의 랜덤 샘플링을 통해 생성되었다. 영국의 가상 웹사이트 이용 방문객들에 대한 내용이며, A, B의 실험군과 대조군에 대한 내용이다. 웹사이트의 배경이 흰색이나 검은색일 때가 이용시간에 영향을 미치는지를 확인해 볼 것이다. 나아가 이것이 상품의 구매등에 영향을 끼지는지 확인해 보자.\n",
    "\n",
    "그룹 A는 흰색 배경, B는 검은 배경으로 이 변화가 유의미한지 A/B 테스트를 해보자."
   ]
  },
  {
   "cell_type": "markdown",
   "id": "ba20296c",
   "metadata": {},
   "source": [
    "컬럼은 다음과 같다.\n",
    "\n",
    "User ID - 회원들의 아이디\n",
    "\n",
    "Group - 어느 집단인지. A와 B그룹 -> 각각을 나누어 데이터프레임을 생성해줘야 할 것 같다.\n",
    "\n",
    "Page Views - 본 페이지 수\n",
    "\n",
    "Time Spent - 총 소비한 시간\n",
    "\n",
    "Conversion - 원하는 작업을 완료했는지 여부\n",
    "\n",
    "Device - 사용한 장치(모바일/데스크탑)\n",
    "\n",
    "Location - 장소"
   ]
  },
  {
   "cell_type": "code",
   "execution_count": 1,
   "id": "78bf0b29",
   "metadata": {},
   "outputs": [],
   "source": [
    "import numpy as np\n",
    "import pandas as pd\n",
    "import seaborn as sns\n",
    "import matplotlib.pyplot as plt"
   ]
  },
  {
   "cell_type": "code",
   "execution_count": 2,
   "id": "3bd5359f",
   "metadata": {},
   "outputs": [
    {
     "data": {
      "text/html": [
       "<div>\n",
       "<style scoped>\n",
       "    .dataframe tbody tr th:only-of-type {\n",
       "        vertical-align: middle;\n",
       "    }\n",
       "\n",
       "    .dataframe tbody tr th {\n",
       "        vertical-align: top;\n",
       "    }\n",
       "\n",
       "    .dataframe thead th {\n",
       "        text-align: right;\n",
       "    }\n",
       "</style>\n",
       "<table border=\"1\" class=\"dataframe\">\n",
       "  <thead>\n",
       "    <tr style=\"text-align: right;\">\n",
       "      <th></th>\n",
       "      <th>User ID</th>\n",
       "      <th>Group</th>\n",
       "      <th>Page Views</th>\n",
       "      <th>Time Spent</th>\n",
       "      <th>Conversion</th>\n",
       "      <th>Device</th>\n",
       "      <th>Location</th>\n",
       "    </tr>\n",
       "  </thead>\n",
       "  <tbody>\n",
       "    <tr>\n",
       "      <th>0</th>\n",
       "      <td>14292</td>\n",
       "      <td>B</td>\n",
       "      <td>3</td>\n",
       "      <td>424</td>\n",
       "      <td>No</td>\n",
       "      <td>Mobile</td>\n",
       "      <td>Northern Ireland</td>\n",
       "    </tr>\n",
       "    <tr>\n",
       "      <th>1</th>\n",
       "      <td>11682</td>\n",
       "      <td>A</td>\n",
       "      <td>9</td>\n",
       "      <td>342</td>\n",
       "      <td>No</td>\n",
       "      <td>Mobile</td>\n",
       "      <td>Scotland</td>\n",
       "    </tr>\n",
       "    <tr>\n",
       "      <th>2</th>\n",
       "      <td>19825</td>\n",
       "      <td>A</td>\n",
       "      <td>2</td>\n",
       "      <td>396</td>\n",
       "      <td>No</td>\n",
       "      <td>Desktop</td>\n",
       "      <td>Northern Ireland</td>\n",
       "    </tr>\n",
       "    <tr>\n",
       "      <th>3</th>\n",
       "      <td>16080</td>\n",
       "      <td>B</td>\n",
       "      <td>4</td>\n",
       "      <td>318</td>\n",
       "      <td>No</td>\n",
       "      <td>Desktop</td>\n",
       "      <td>Wales</td>\n",
       "    </tr>\n",
       "    <tr>\n",
       "      <th>4</th>\n",
       "      <td>18851</td>\n",
       "      <td>A</td>\n",
       "      <td>1</td>\n",
       "      <td>338</td>\n",
       "      <td>Yes</td>\n",
       "      <td>Desktop</td>\n",
       "      <td>Scotland</td>\n",
       "    </tr>\n",
       "  </tbody>\n",
       "</table>\n",
       "</div>"
      ],
      "text/plain": [
       "   User ID Group  Page Views  Time Spent Conversion   Device          Location\n",
       "0    14292     B           3         424         No   Mobile  Northern Ireland\n",
       "1    11682     A           9         342         No   Mobile          Scotland\n",
       "2    19825     A           2         396         No  Desktop  Northern Ireland\n",
       "3    16080     B           4         318         No  Desktop             Wales\n",
       "4    18851     A           1         338        Yes  Desktop          Scotland"
      ]
     },
     "execution_count": 2,
     "metadata": {},
     "output_type": "execute_result"
    }
   ],
   "source": [
    "df = pd.read_csv('ab_testing.csv')\n",
    "df.head()"
   ]
  },
  {
   "cell_type": "code",
   "execution_count": 3,
   "id": "2cf0e235",
   "metadata": {
    "scrolled": true
   },
   "outputs": [
    {
     "data": {
      "text/html": [
       "<div>\n",
       "<style scoped>\n",
       "    .dataframe tbody tr th:only-of-type {\n",
       "        vertical-align: middle;\n",
       "    }\n",
       "\n",
       "    .dataframe tbody tr th {\n",
       "        vertical-align: top;\n",
       "    }\n",
       "\n",
       "    .dataframe thead th {\n",
       "        text-align: right;\n",
       "    }\n",
       "</style>\n",
       "<table border=\"1\" class=\"dataframe\">\n",
       "  <thead>\n",
       "    <tr style=\"text-align: right;\">\n",
       "      <th></th>\n",
       "      <th>User ID</th>\n",
       "      <th>Page Views</th>\n",
       "      <th>Time Spent</th>\n",
       "    </tr>\n",
       "  </thead>\n",
       "  <tbody>\n",
       "    <tr>\n",
       "      <th>count</th>\n",
       "      <td>5000.000000</td>\n",
       "      <td>5000.000000</td>\n",
       "      <td>5000.000000</td>\n",
       "    </tr>\n",
       "    <tr>\n",
       "      <th>mean</th>\n",
       "      <td>14925.159000</td>\n",
       "      <td>7.537600</td>\n",
       "      <td>242.512600</td>\n",
       "    </tr>\n",
       "    <tr>\n",
       "      <th>std</th>\n",
       "      <td>2869.153773</td>\n",
       "      <td>4.022465</td>\n",
       "      <td>118.254153</td>\n",
       "    </tr>\n",
       "    <tr>\n",
       "      <th>min</th>\n",
       "      <td>10001.000000</td>\n",
       "      <td>1.000000</td>\n",
       "      <td>40.000000</td>\n",
       "    </tr>\n",
       "    <tr>\n",
       "      <th>25%</th>\n",
       "      <td>12456.250000</td>\n",
       "      <td>4.000000</td>\n",
       "      <td>137.000000</td>\n",
       "    </tr>\n",
       "    <tr>\n",
       "      <th>50%</th>\n",
       "      <td>14858.500000</td>\n",
       "      <td>8.000000</td>\n",
       "      <td>243.000000</td>\n",
       "    </tr>\n",
       "    <tr>\n",
       "      <th>75%</th>\n",
       "      <td>17379.750000</td>\n",
       "      <td>11.000000</td>\n",
       "      <td>346.000000</td>\n",
       "    </tr>\n",
       "    <tr>\n",
       "      <th>max</th>\n",
       "      <td>19995.000000</td>\n",
       "      <td>14.000000</td>\n",
       "      <td>449.000000</td>\n",
       "    </tr>\n",
       "  </tbody>\n",
       "</table>\n",
       "</div>"
      ],
      "text/plain": [
       "            User ID   Page Views   Time Spent\n",
       "count   5000.000000  5000.000000  5000.000000\n",
       "mean   14925.159000     7.537600   242.512600\n",
       "std     2869.153773     4.022465   118.254153\n",
       "min    10001.000000     1.000000    40.000000\n",
       "25%    12456.250000     4.000000   137.000000\n",
       "50%    14858.500000     8.000000   243.000000\n",
       "75%    17379.750000    11.000000   346.000000\n",
       "max    19995.000000    14.000000   449.000000"
      ]
     },
     "execution_count": 3,
     "metadata": {},
     "output_type": "execute_result"
    }
   ],
   "source": [
    "df.describe()"
   ]
  },
  {
   "cell_type": "markdown",
   "id": "c0b5adfd",
   "metadata": {},
   "source": [
    "대상이 되는 회원들의 수는 약 5000명이다. 평균적으로 확인한 페이지 수는 7페이지 정도이며, 소비한 시간은 240분 정도 이다."
   ]
  },
  {
   "cell_type": "code",
   "execution_count": 4,
   "id": "e3a130b3",
   "metadata": {},
   "outputs": [],
   "source": [
    "df_A = df[df['Group']=='A']\n",
    "df_B = df[df['Group']=='B']"
   ]
  },
  {
   "cell_type": "markdown",
   "id": "fd721803",
   "metadata": {},
   "source": [
    "## 1. EDA \n",
    "각 컬럼들에 대해서 탐색해 보자."
   ]
  },
  {
   "cell_type": "markdown",
   "id": "57b4afec",
   "metadata": {},
   "source": [
    "#### 1-1 Group\n",
    "그룹은 A와 B가 존재한다."
   ]
  },
  {
   "cell_type": "code",
   "execution_count": 5,
   "id": "6ff7fc34",
   "metadata": {
    "scrolled": true
   },
   "outputs": [
    {
     "data": {
      "text/plain": [
       "Group\n",
       "A    2519\n",
       "B    2481\n",
       "Name: count, dtype: int64"
      ]
     },
     "execution_count": 5,
     "metadata": {},
     "output_type": "execute_result"
    }
   ],
   "source": [
    "df['Group'].value_counts()"
   ]
  },
  {
   "cell_type": "markdown",
   "id": "29d3105e",
   "metadata": {},
   "source": [
    "정확히 같은 수는 아니지만 유사하게 2500개 정도의 값을 가지고 있다."
   ]
  },
  {
   "cell_type": "markdown",
   "id": "830ccc71",
   "metadata": {},
   "source": [
    "수치적으로 분석해야 하므로 Conversion의 Yes를 1, No를 0으로 매핑해준다."
   ]
  },
  {
   "cell_type": "code",
   "execution_count": 6,
   "id": "223e68de",
   "metadata": {},
   "outputs": [],
   "source": [
    "df['Conversion'] = df['Conversion'].map({'Yes':1,'No':0})"
   ]
  },
  {
   "cell_type": "code",
   "execution_count": 7,
   "id": "226a4a80",
   "metadata": {
    "scrolled": true
   },
   "outputs": [
    {
     "data": {
      "text/html": [
       "<div>\n",
       "<style scoped>\n",
       "    .dataframe tbody tr th:only-of-type {\n",
       "        vertical-align: middle;\n",
       "    }\n",
       "\n",
       "    .dataframe tbody tr th {\n",
       "        vertical-align: top;\n",
       "    }\n",
       "\n",
       "    .dataframe thead th {\n",
       "        text-align: right;\n",
       "    }\n",
       "</style>\n",
       "<table border=\"1\" class=\"dataframe\">\n",
       "  <thead>\n",
       "    <tr style=\"text-align: right;\">\n",
       "      <th></th>\n",
       "      <th>Conversion</th>\n",
       "    </tr>\n",
       "    <tr>\n",
       "      <th>Group</th>\n",
       "      <th></th>\n",
       "    </tr>\n",
       "  </thead>\n",
       "  <tbody>\n",
       "    <tr>\n",
       "      <th>A</th>\n",
       "      <td>0.053990</td>\n",
       "    </tr>\n",
       "    <tr>\n",
       "      <th>B</th>\n",
       "      <td>0.140669</td>\n",
       "    </tr>\n",
       "  </tbody>\n",
       "</table>\n",
       "</div>"
      ],
      "text/plain": [
       "       Conversion\n",
       "Group            \n",
       "A        0.053990\n",
       "B        0.140669"
      ]
     },
     "execution_count": 7,
     "metadata": {},
     "output_type": "execute_result"
    }
   ],
   "source": [
    "df[['Conversion','Group']].groupby('Group').mean()"
   ]
  },
  {
   "cell_type": "markdown",
   "id": "07f88a5a",
   "metadata": {},
   "source": [
    "그룹별로 전환율의 차이가 존재하는 것을 확인 할 수 있다.\n",
    "이 전환율이 유의미한지, 어떠한 변수들로 인한 것인지를 확인해야 한다."
   ]
  },
  {
   "cell_type": "markdown",
   "id": "d42967ec",
   "metadata": {},
   "source": [
    "#### 1-2 Page Views"
   ]
  },
  {
   "cell_type": "code",
   "execution_count": 8,
   "id": "c9aa5c91",
   "metadata": {},
   "outputs": [
    {
     "data": {
      "text/plain": [
       "Page Views\n",
       "7     382\n",
       "10    373\n",
       "8     365\n",
       "11    364\n",
       "4     363\n",
       "1     361\n",
       "2     360\n",
       "12    358\n",
       "13    358\n",
       "9     354\n",
       "14    354\n",
       "6     353\n",
       "3     329\n",
       "5     326\n",
       "Name: count, dtype: int64"
      ]
     },
     "execution_count": 8,
     "metadata": {},
     "output_type": "execute_result"
    }
   ],
   "source": [
    "df['Page Views'].value_counts()"
   ]
  },
  {
   "cell_type": "markdown",
   "id": "1ebdf32e",
   "metadata": {},
   "source": [
    "페이지 수는 고르게 분포하고있다. 1-14페이지 까지 한 페이지 별로 약 300명씩의 이용자가 존재한다."
   ]
  },
  {
   "cell_type": "code",
   "execution_count": 9,
   "id": "44bb8685",
   "metadata": {
    "scrolled": true
   },
   "outputs": [
    {
     "data": {
      "text/plain": [
       "<seaborn.axisgrid.FacetGrid at 0x18f6037ba00>"
      ]
     },
     "execution_count": 9,
     "metadata": {},
     "output_type": "execute_result"
    },
    {
     "data": {
      "image/png": "[encoded data removed]",
      "text/plain": [
       "<Figure size 368x360 with 1 Axes>"
      ]
     },
     "metadata": {
      "needs_background": "light"
     },
     "output_type": "display_data"
    }
   ],
   "source": [
    "sns.catplot(data = df, x='Page Views', y='Conversion', kind='point')"
   ]
  },
  {
   "cell_type": "code",
   "execution_count": 10,
   "id": "ebe068e7",
   "metadata": {},
   "outputs": [
    {
     "data": {
      "text/html": [
       "<div>\n",
       "<style scoped>\n",
       "    .dataframe tbody tr th:only-of-type {\n",
       "        vertical-align: middle;\n",
       "    }\n",
       "\n",
       "    .dataframe tbody tr th {\n",
       "        vertical-align: top;\n",
       "    }\n",
       "\n",
       "    .dataframe thead th {\n",
       "        text-align: right;\n",
       "    }\n",
       "</style>\n",
       "<table border=\"1\" class=\"dataframe\">\n",
       "  <thead>\n",
       "    <tr style=\"text-align: right;\">\n",
       "      <th></th>\n",
       "      <th>Conversion</th>\n",
       "    </tr>\n",
       "    <tr>\n",
       "      <th>Page Views</th>\n",
       "      <th></th>\n",
       "    </tr>\n",
       "  </thead>\n",
       "  <tbody>\n",
       "    <tr>\n",
       "      <th>1</th>\n",
       "      <td>0.102493</td>\n",
       "    </tr>\n",
       "    <tr>\n",
       "      <th>2</th>\n",
       "      <td>0.094444</td>\n",
       "    </tr>\n",
       "    <tr>\n",
       "      <th>3</th>\n",
       "      <td>0.109422</td>\n",
       "    </tr>\n",
       "    <tr>\n",
       "      <th>4</th>\n",
       "      <td>0.099174</td>\n",
       "    </tr>\n",
       "    <tr>\n",
       "      <th>5</th>\n",
       "      <td>0.104294</td>\n",
       "    </tr>\n",
       "    <tr>\n",
       "      <th>6</th>\n",
       "      <td>0.096317</td>\n",
       "    </tr>\n",
       "    <tr>\n",
       "      <th>7</th>\n",
       "      <td>0.102094</td>\n",
       "    </tr>\n",
       "    <tr>\n",
       "      <th>8</th>\n",
       "      <td>0.101370</td>\n",
       "    </tr>\n",
       "    <tr>\n",
       "      <th>9</th>\n",
       "      <td>0.124294</td>\n",
       "    </tr>\n",
       "    <tr>\n",
       "      <th>10</th>\n",
       "      <td>0.085791</td>\n",
       "    </tr>\n",
       "    <tr>\n",
       "      <th>11</th>\n",
       "      <td>0.093407</td>\n",
       "    </tr>\n",
       "    <tr>\n",
       "      <th>12</th>\n",
       "      <td>0.061453</td>\n",
       "    </tr>\n",
       "    <tr>\n",
       "      <th>13</th>\n",
       "      <td>0.086592</td>\n",
       "    </tr>\n",
       "    <tr>\n",
       "      <th>14</th>\n",
       "      <td>0.098870</td>\n",
       "    </tr>\n",
       "  </tbody>\n",
       "</table>\n",
       "</div>"
      ],
      "text/plain": [
       "            Conversion\n",
       "Page Views            \n",
       "1             0.102493\n",
       "2             0.094444\n",
       "3             0.109422\n",
       "4             0.099174\n",
       "5             0.104294\n",
       "6             0.096317\n",
       "7             0.102094\n",
       "8             0.101370\n",
       "9             0.124294\n",
       "10            0.085791\n",
       "11            0.093407\n",
       "12            0.061453\n",
       "13            0.086592\n",
       "14            0.098870"
      ]
     },
     "execution_count": 10,
     "metadata": {},
     "output_type": "execute_result"
    }
   ],
   "source": [
    "df[['Conversion','Page Views']].groupby('Page Views').mean()"
   ]
  },
  {
   "cell_type": "markdown",
   "id": "775b1267",
   "metadata": {},
   "source": [
    "페이지수 별로의 전환률은 고르게 0.1 정도의 값을 갖고 있으며, 오히려 확인한 페이지가 많을 때가 적을때에 비해서 전환률이 낮은 경향도 보이는 것을 확인할 수 있다."
   ]
  },
  {
   "cell_type": "markdown",
   "id": "a0d933ef",
   "metadata": {},
   "source": [
    "#### 1-3 Time Spent"
   ]
  },
  {
   "cell_type": "code",
   "execution_count": 11,
   "id": "c7ae9351",
   "metadata": {},
   "outputs": [
    {
     "data": {
      "text/plain": [
       "<Axes: xlabel='Time Spent', ylabel='count'>"
      ]
     },
     "execution_count": 11,
     "metadata": {},
     "output_type": "execute_result"
    },
    {
     "data": {
      "image/png": "[encoded data removed]",
      "text/plain": [
       "<Figure size 432x288 with 1 Axes>"
      ]
     },
     "metadata": {
      "needs_background": "light"
     },
     "output_type": "display_data"
    }
   ],
   "source": [
    "sns.countplot(data = df, x='Time Spent')"
   ]
  },
  {
   "cell_type": "code",
   "execution_count": 12,
   "id": "a49adea1",
   "metadata": {},
   "outputs": [
    {
     "data": {
      "text/plain": [
       "<seaborn.axisgrid.FacetGrid at 0x18f5744f5e0>"
      ]
     },
     "execution_count": 12,
     "metadata": {},
     "output_type": "execute_result"
    },
    {
     "data": {
      "image/png": "[encoded data removed]",
      "text/plain": [
       "<Figure size 368x360 with 1 Axes>"
      ]
     },
     "metadata": {
      "needs_background": "light"
     },
     "output_type": "display_data"
    }
   ],
   "source": [
    "sns.catplot(data = df, x='Time Spent', y='Conversion', kind='point')"
   ]
  },
  {
   "cell_type": "markdown",
   "id": "9510bd45",
   "metadata": {},
   "source": [
    "소비한 시간별로의 전환율을 확인했을 때, 시간과 전환율 사이의 상관관계는 크게 없는 것으로 확인된다."
   ]
  },
  {
   "cell_type": "code",
   "execution_count": 13,
   "id": "54ddf1e9",
   "metadata": {
    "scrolled": true
   },
   "outputs": [
    {
     "data": {
      "text/plain": [
       "<seaborn.axisgrid.FacetGrid at 0x18f6401d630>"
      ]
     },
     "execution_count": 13,
     "metadata": {},
     "output_type": "execute_result"
    },
    {
     "data": {
      "image/png": "[encoded data removed]",
      "text/plain": [
       "<Figure size 368x360 with 1 Axes>"
      ]
     },
     "metadata": {
      "needs_background": "light"
     },
     "output_type": "display_data"
    }
   ],
   "source": [
    "sns.catplot(data = df, x='Page Views', y='Time Spent', kind='point')"
   ]
  },
  {
   "cell_type": "markdown",
   "id": "63d73d69",
   "metadata": {},
   "source": [
    "페이지 수가 많을수록 소모한 시간이 것이라고 생각했었는데 크게 상관이 없는것으로 나타났다. 딱히 공선성을 확인할 수 없는것으로 보인다."
   ]
  },
  {
   "cell_type": "markdown",
   "id": "e246d556",
   "metadata": {},
   "source": [
    "#### 1-4 Device"
   ]
  },
  {
   "cell_type": "code",
   "execution_count": 14,
   "id": "0f5fa81d",
   "metadata": {},
   "outputs": [
    {
     "data": {
      "text/plain": [
       "Device\n",
       "Desktop    2538\n",
       "Mobile     2462\n",
       "Name: count, dtype: int64"
      ]
     },
     "execution_count": 14,
     "metadata": {},
     "output_type": "execute_result"
    }
   ],
   "source": [
    "df['Device'].value_counts()"
   ]
  },
  {
   "cell_type": "markdown",
   "id": "46e6d8b0",
   "metadata": {},
   "source": [
    "장비는 desktop과 mobile 두 종류가 존재한다."
   ]
  },
  {
   "cell_type": "code",
   "execution_count": 15,
   "id": "97870b08",
   "metadata": {},
   "outputs": [
    {
     "data": {
      "text/html": [
       "<div>\n",
       "<style scoped>\n",
       "    .dataframe tbody tr th:only-of-type {\n",
       "        vertical-align: middle;\n",
       "    }\n",
       "\n",
       "    .dataframe tbody tr th {\n",
       "        vertical-align: top;\n",
       "    }\n",
       "\n",
       "    .dataframe thead th {\n",
       "        text-align: right;\n",
       "    }\n",
       "</style>\n",
       "<table border=\"1\" class=\"dataframe\">\n",
       "  <thead>\n",
       "    <tr style=\"text-align: right;\">\n",
       "      <th></th>\n",
       "      <th>Conversion</th>\n",
       "    </tr>\n",
       "    <tr>\n",
       "      <th>Device</th>\n",
       "      <th></th>\n",
       "    </tr>\n",
       "  </thead>\n",
       "  <tbody>\n",
       "    <tr>\n",
       "      <th>Desktop</th>\n",
       "      <td>0.099685</td>\n",
       "    </tr>\n",
       "    <tr>\n",
       "      <th>Mobile</th>\n",
       "      <td>0.094232</td>\n",
       "    </tr>\n",
       "  </tbody>\n",
       "</table>\n",
       "</div>"
      ],
      "text/plain": [
       "         Conversion\n",
       "Device             \n",
       "Desktop    0.099685\n",
       "Mobile     0.094232"
      ]
     },
     "execution_count": 15,
     "metadata": {},
     "output_type": "execute_result"
    }
   ],
   "source": [
    "df[['Device','Conversion']].groupby('Device').mean()"
   ]
  },
  {
   "cell_type": "markdown",
   "id": "85d72269",
   "metadata": {},
   "source": [
    "모바일과 데스크탑에서의 전환률의 차이는 크게 없어 보인다."
   ]
  },
  {
   "cell_type": "markdown",
   "id": "88a54ec2",
   "metadata": {},
   "source": [
    "수치적으로 분석하기 위해 매핑을 해준다."
   ]
  },
  {
   "cell_type": "code",
   "execution_count": 16,
   "id": "041124d0",
   "metadata": {},
   "outputs": [],
   "source": [
    "df['Device'] = df['Device'].map({'Desktop':0, 'Mobile':1})"
   ]
  },
  {
   "cell_type": "markdown",
   "id": "8aa08b1c",
   "metadata": {},
   "source": [
    "#### 1-5 Location"
   ]
  },
  {
   "cell_type": "code",
   "execution_count": 17,
   "id": "d03b1265",
   "metadata": {},
   "outputs": [
    {
     "data": {
      "text/plain": [
       "Location\n",
       "Scotland            1281\n",
       "England             1246\n",
       "Northern Ireland    1242\n",
       "Wales               1231\n",
       "Name: count, dtype: int64"
      ]
     },
     "execution_count": 17,
     "metadata": {},
     "output_type": "execute_result"
    }
   ],
   "source": [
    "df['Location'].value_counts()"
   ]
  },
  {
   "cell_type": "markdown",
   "id": "31064c72",
   "metadata": {},
   "source": [
    "이용 장소는 크게 네곳으로 영국의 네 지역으로 보인다. 스코틀랜드, 잉글랜드, 북아일랜드, 웨일즈 의 네 곳이다."
   ]
  },
  {
   "cell_type": "code",
   "execution_count": 18,
   "id": "dc0e9e4a",
   "metadata": {},
   "outputs": [
    {
     "data": {
      "text/html": [
       "<div>\n",
       "<style scoped>\n",
       "    .dataframe tbody tr th:only-of-type {\n",
       "        vertical-align: middle;\n",
       "    }\n",
       "\n",
       "    .dataframe tbody tr th {\n",
       "        vertical-align: top;\n",
       "    }\n",
       "\n",
       "    .dataframe thead th {\n",
       "        text-align: right;\n",
       "    }\n",
       "</style>\n",
       "<table border=\"1\" class=\"dataframe\">\n",
       "  <thead>\n",
       "    <tr style=\"text-align: right;\">\n",
       "      <th></th>\n",
       "      <th>Conversion</th>\n",
       "    </tr>\n",
       "    <tr>\n",
       "      <th>Location</th>\n",
       "      <th></th>\n",
       "    </tr>\n",
       "  </thead>\n",
       "  <tbody>\n",
       "    <tr>\n",
       "      <th>England</th>\n",
       "      <td>0.109149</td>\n",
       "    </tr>\n",
       "    <tr>\n",
       "      <th>Northern Ireland</th>\n",
       "      <td>0.082931</td>\n",
       "    </tr>\n",
       "    <tr>\n",
       "      <th>Scotland</th>\n",
       "      <td>0.097580</td>\n",
       "    </tr>\n",
       "    <tr>\n",
       "      <th>Wales</th>\n",
       "      <td>0.098294</td>\n",
       "    </tr>\n",
       "  </tbody>\n",
       "</table>\n",
       "</div>"
      ],
      "text/plain": [
       "                  Conversion\n",
       "Location                    \n",
       "England             0.109149\n",
       "Northern Ireland    0.082931\n",
       "Scotland            0.097580\n",
       "Wales               0.098294"
      ]
     },
     "execution_count": 18,
     "metadata": {},
     "output_type": "execute_result"
    }
   ],
   "source": [
    "df[['Location','Conversion']].groupby('Location').mean()"
   ]
  },
  {
   "cell_type": "markdown",
   "id": "831b4fe1",
   "metadata": {},
   "source": [
    "네 지역 모드 0.1정도의 전환률을 띄며 지역별로의 차이는 크게 없어 보인다."
   ]
  },
  {
   "cell_type": "markdown",
   "id": "7b15f6b3",
   "metadata": {},
   "source": [
    "마찬가지로 매핑을 해주자"
   ]
  },
  {
   "cell_type": "code",
   "execution_count": 19,
   "id": "b54bd13a",
   "metadata": {},
   "outputs": [],
   "source": [
    "df['Location'] = df['Location'].map({'England':0,'Northern Ireland':1,'Scotland':2,'Wales':3})"
   ]
  },
  {
   "cell_type": "code",
   "execution_count": 20,
   "id": "013fa1d8",
   "metadata": {
    "scrolled": true
   },
   "outputs": [
    {
     "name": "stdout",
     "output_type": "stream",
     "text": [
      "<class 'pandas.core.frame.DataFrame'>\n",
      "RangeIndex: 5000 entries, 0 to 4999\n",
      "Data columns (total 7 columns):\n",
      " #   Column      Non-Null Count  Dtype \n",
      "---  ------      --------------  ----- \n",
      " 0   User ID     5000 non-null   int64 \n",
      " 1   Group       5000 non-null   object\n",
      " 2   Page Views  5000 non-null   int64 \n",
      " 3   Time Spent  5000 non-null   int64 \n",
      " 4   Conversion  5000 non-null   int64 \n",
      " 5   Device      5000 non-null   int64 \n",
      " 6   Location    5000 non-null   int64 \n",
      "dtypes: int64(6), object(1)\n",
      "memory usage: 273.6+ KB\n"
     ]
    }
   ],
   "source": [
    "df.info()"
   ]
  },
  {
   "cell_type": "code",
   "execution_count": 21,
   "id": "4f64ed38",
   "metadata": {},
   "outputs": [
    {
     "data": {
      "text/html": [
       "<div>\n",
       "<style scoped>\n",
       "    .dataframe tbody tr th:only-of-type {\n",
       "        vertical-align: middle;\n",
       "    }\n",
       "\n",
       "    .dataframe tbody tr th {\n",
       "        vertical-align: top;\n",
       "    }\n",
       "\n",
       "    .dataframe thead th {\n",
       "        text-align: right;\n",
       "    }\n",
       "</style>\n",
       "<table border=\"1\" class=\"dataframe\">\n",
       "  <thead>\n",
       "    <tr style=\"text-align: right;\">\n",
       "      <th></th>\n",
       "      <th>User ID</th>\n",
       "      <th>Group</th>\n",
       "      <th>Page Views</th>\n",
       "      <th>Time Spent</th>\n",
       "      <th>Conversion</th>\n",
       "      <th>Device</th>\n",
       "      <th>Location</th>\n",
       "    </tr>\n",
       "  </thead>\n",
       "  <tbody>\n",
       "    <tr>\n",
       "      <th>0</th>\n",
       "      <td>14292</td>\n",
       "      <td>B</td>\n",
       "      <td>3</td>\n",
       "      <td>424</td>\n",
       "      <td>0</td>\n",
       "      <td>1</td>\n",
       "      <td>1</td>\n",
       "    </tr>\n",
       "    <tr>\n",
       "      <th>1</th>\n",
       "      <td>11682</td>\n",
       "      <td>A</td>\n",
       "      <td>9</td>\n",
       "      <td>342</td>\n",
       "      <td>0</td>\n",
       "      <td>1</td>\n",
       "      <td>2</td>\n",
       "    </tr>\n",
       "    <tr>\n",
       "      <th>2</th>\n",
       "      <td>19825</td>\n",
       "      <td>A</td>\n",
       "      <td>2</td>\n",
       "      <td>396</td>\n",
       "      <td>0</td>\n",
       "      <td>0</td>\n",
       "      <td>1</td>\n",
       "    </tr>\n",
       "    <tr>\n",
       "      <th>3</th>\n",
       "      <td>16080</td>\n",
       "      <td>B</td>\n",
       "      <td>4</td>\n",
       "      <td>318</td>\n",
       "      <td>0</td>\n",
       "      <td>0</td>\n",
       "      <td>3</td>\n",
       "    </tr>\n",
       "    <tr>\n",
       "      <th>4</th>\n",
       "      <td>18851</td>\n",
       "      <td>A</td>\n",
       "      <td>1</td>\n",
       "      <td>338</td>\n",
       "      <td>1</td>\n",
       "      <td>0</td>\n",
       "      <td>2</td>\n",
       "    </tr>\n",
       "  </tbody>\n",
       "</table>\n",
       "</div>"
      ],
      "text/plain": [
       "   User ID Group  Page Views  Time Spent  Conversion  Device  Location\n",
       "0    14292     B           3         424           0       1         1\n",
       "1    11682     A           9         342           0       1         2\n",
       "2    19825     A           2         396           0       0         1\n",
       "3    16080     B           4         318           0       0         3\n",
       "4    18851     A           1         338           1       0         2"
      ]
     },
     "execution_count": 21,
     "metadata": {},
     "output_type": "execute_result"
    }
   ],
   "source": [
    "df.head()"
   ]
  },
  {
   "cell_type": "code",
   "execution_count": 22,
   "id": "6f995dbb",
   "metadata": {},
   "outputs": [],
   "source": [
    "df = df.drop(columns = 'User ID')"
   ]
  },
  {
   "cell_type": "code",
   "execution_count": 23,
   "id": "54ba1c2c",
   "metadata": {},
   "outputs": [],
   "source": [
    "df_A = df[df['Group'] == 'A']"
   ]
  },
  {
   "cell_type": "code",
   "execution_count": 24,
   "id": "d720c522",
   "metadata": {},
   "outputs": [],
   "source": [
    "df_B = df[df['Group'] == 'B']"
   ]
  },
  {
   "cell_type": "code",
   "execution_count": 25,
   "id": "9b0d4aa0",
   "metadata": {},
   "outputs": [
    {
     "data": {
      "text/html": [
       "<div>\n",
       "<style scoped>\n",
       "    .dataframe tbody tr th:only-of-type {\n",
       "        vertical-align: middle;\n",
       "    }\n",
       "\n",
       "    .dataframe tbody tr th {\n",
       "        vertical-align: top;\n",
       "    }\n",
       "\n",
       "    .dataframe thead th {\n",
       "        text-align: right;\n",
       "    }\n",
       "</style>\n",
       "<table border=\"1\" class=\"dataframe\">\n",
       "  <thead>\n",
       "    <tr style=\"text-align: right;\">\n",
       "      <th></th>\n",
       "      <th>Page Views</th>\n",
       "      <th>Time Spent</th>\n",
       "      <th>Conversion</th>\n",
       "      <th>Device</th>\n",
       "      <th>Location</th>\n",
       "    </tr>\n",
       "  </thead>\n",
       "  <tbody>\n",
       "    <tr>\n",
       "      <th>Page Views</th>\n",
       "      <td>1.000000</td>\n",
       "      <td>-0.001484</td>\n",
       "      <td>-0.018269</td>\n",
       "      <td>0.001833</td>\n",
       "      <td>-0.009347</td>\n",
       "    </tr>\n",
       "    <tr>\n",
       "      <th>Time Spent</th>\n",
       "      <td>-0.001484</td>\n",
       "      <td>1.000000</td>\n",
       "      <td>0.002100</td>\n",
       "      <td>-0.005779</td>\n",
       "      <td>-0.005638</td>\n",
       "    </tr>\n",
       "    <tr>\n",
       "      <th>Conversion</th>\n",
       "      <td>-0.018269</td>\n",
       "      <td>0.002100</td>\n",
       "      <td>1.000000</td>\n",
       "      <td>-0.009210</td>\n",
       "      <td>-0.006800</td>\n",
       "    </tr>\n",
       "    <tr>\n",
       "      <th>Device</th>\n",
       "      <td>0.001833</td>\n",
       "      <td>-0.005779</td>\n",
       "      <td>-0.009210</td>\n",
       "      <td>1.000000</td>\n",
       "      <td>-0.002702</td>\n",
       "    </tr>\n",
       "    <tr>\n",
       "      <th>Location</th>\n",
       "      <td>-0.009347</td>\n",
       "      <td>-0.005638</td>\n",
       "      <td>-0.006800</td>\n",
       "      <td>-0.002702</td>\n",
       "      <td>1.000000</td>\n",
       "    </tr>\n",
       "  </tbody>\n",
       "</table>\n",
       "</div>"
      ],
      "text/plain": [
       "            Page Views  Time Spent  Conversion    Device  Location\n",
       "Page Views    1.000000   -0.001484   -0.018269  0.001833 -0.009347\n",
       "Time Spent   -0.001484    1.000000    0.002100 -0.005779 -0.005638\n",
       "Conversion   -0.018269    0.002100    1.000000 -0.009210 -0.006800\n",
       "Device        0.001833   -0.005779   -0.009210  1.000000 -0.002702\n",
       "Location     -0.009347   -0.005638   -0.006800 -0.002702  1.000000"
      ]
     },
     "execution_count": 25,
     "metadata": {},
     "output_type": "execute_result"
    }
   ],
   "source": [
    "df[['Page Views','Time Spent','Conversion','Device','Location']].corr()"
   ]
  },
  {
   "cell_type": "markdown",
   "id": "c3661134",
   "metadata": {},
   "source": [
    "변수들간의 상관관계는 크게 없는 것으로 나타났다."
   ]
  },
  {
   "cell_type": "code",
   "execution_count": 26,
   "id": "16dad8cb",
   "metadata": {},
   "outputs": [
    {
     "data": {
      "text/html": [
       "<div>\n",
       "<style scoped>\n",
       "    .dataframe tbody tr th:only-of-type {\n",
       "        vertical-align: middle;\n",
       "    }\n",
       "\n",
       "    .dataframe tbody tr th {\n",
       "        vertical-align: top;\n",
       "    }\n",
       "\n",
       "    .dataframe thead tr th {\n",
       "        text-align: left;\n",
       "    }\n",
       "\n",
       "    .dataframe thead tr:last-of-type th {\n",
       "        text-align: right;\n",
       "    }\n",
       "</style>\n",
       "<table border=\"1\" class=\"dataframe\">\n",
       "  <thead>\n",
       "    <tr>\n",
       "      <th></th>\n",
       "      <th colspan=\"8\" halign=\"left\">Page Views</th>\n",
       "      <th colspan=\"2\" halign=\"left\">Time Spent</th>\n",
       "      <th>...</th>\n",
       "      <th colspan=\"2\" halign=\"left\">Device</th>\n",
       "      <th colspan=\"8\" halign=\"left\">Location</th>\n",
       "    </tr>\n",
       "    <tr>\n",
       "      <th></th>\n",
       "      <th>count</th>\n",
       "      <th>mean</th>\n",
       "      <th>std</th>\n",
       "      <th>min</th>\n",
       "      <th>25%</th>\n",
       "      <th>50%</th>\n",
       "      <th>75%</th>\n",
       "      <th>max</th>\n",
       "      <th>count</th>\n",
       "      <th>mean</th>\n",
       "      <th>...</th>\n",
       "      <th>75%</th>\n",
       "      <th>max</th>\n",
       "      <th>count</th>\n",
       "      <th>mean</th>\n",
       "      <th>std</th>\n",
       "      <th>min</th>\n",
       "      <th>25%</th>\n",
       "      <th>50%</th>\n",
       "      <th>75%</th>\n",
       "      <th>max</th>\n",
       "    </tr>\n",
       "    <tr>\n",
       "      <th>Group</th>\n",
       "      <th></th>\n",
       "      <th></th>\n",
       "      <th></th>\n",
       "      <th></th>\n",
       "      <th></th>\n",
       "      <th></th>\n",
       "      <th></th>\n",
       "      <th></th>\n",
       "      <th></th>\n",
       "      <th></th>\n",
       "      <th></th>\n",
       "      <th></th>\n",
       "      <th></th>\n",
       "      <th></th>\n",
       "      <th></th>\n",
       "      <th></th>\n",
       "      <th></th>\n",
       "      <th></th>\n",
       "      <th></th>\n",
       "      <th></th>\n",
       "      <th></th>\n",
       "    </tr>\n",
       "  </thead>\n",
       "  <tbody>\n",
       "    <tr>\n",
       "      <th>A</th>\n",
       "      <td>2519.0</td>\n",
       "      <td>7.581580</td>\n",
       "      <td>4.080066</td>\n",
       "      <td>1.0</td>\n",
       "      <td>4.0</td>\n",
       "      <td>8.0</td>\n",
       "      <td>11.0</td>\n",
       "      <td>14.0</td>\n",
       "      <td>2519.0</td>\n",
       "      <td>241.733227</td>\n",
       "      <td>...</td>\n",
       "      <td>1.0</td>\n",
       "      <td>1.0</td>\n",
       "      <td>2519.0</td>\n",
       "      <td>1.524811</td>\n",
       "      <td>1.109243</td>\n",
       "      <td>0.0</td>\n",
       "      <td>1.0</td>\n",
       "      <td>2.0</td>\n",
       "      <td>2.0</td>\n",
       "      <td>3.0</td>\n",
       "    </tr>\n",
       "    <tr>\n",
       "      <th>B</th>\n",
       "      <td>2481.0</td>\n",
       "      <td>7.492946</td>\n",
       "      <td>3.963448</td>\n",
       "      <td>1.0</td>\n",
       "      <td>4.0</td>\n",
       "      <td>8.0</td>\n",
       "      <td>11.0</td>\n",
       "      <td>14.0</td>\n",
       "      <td>2481.0</td>\n",
       "      <td>243.303910</td>\n",
       "      <td>...</td>\n",
       "      <td>1.0</td>\n",
       "      <td>1.0</td>\n",
       "      <td>2481.0</td>\n",
       "      <td>1.473599</td>\n",
       "      <td>1.118488</td>\n",
       "      <td>0.0</td>\n",
       "      <td>0.0</td>\n",
       "      <td>1.0</td>\n",
       "      <td>2.0</td>\n",
       "      <td>3.0</td>\n",
       "    </tr>\n",
       "  </tbody>\n",
       "</table>\n",
       "<p>2 rows × 40 columns</p>\n",
       "</div>"
      ],
      "text/plain": [
       "      Page Views                                                Time Spent  \\\n",
       "           count      mean       std  min  25%  50%   75%   max      count   \n",
       "Group                                                                        \n",
       "A         2519.0  7.581580  4.080066  1.0  4.0  8.0  11.0  14.0     2519.0   \n",
       "B         2481.0  7.492946  3.963448  1.0  4.0  8.0  11.0  14.0     2481.0   \n",
       "\n",
       "                   ... Device      Location                                \\\n",
       "             mean  ...    75%  max    count      mean       std  min  25%   \n",
       "Group              ...                                                      \n",
       "A      241.733227  ...    1.0  1.0   2519.0  1.524811  1.109243  0.0  1.0   \n",
       "B      243.303910  ...    1.0  1.0   2481.0  1.473599  1.118488  0.0  0.0   \n",
       "\n",
       "                      \n",
       "       50%  75%  max  \n",
       "Group                 \n",
       "A      2.0  2.0  3.0  \n",
       "B      1.0  2.0  3.0  \n",
       "\n",
       "[2 rows x 40 columns]"
      ]
     },
     "execution_count": 26,
     "metadata": {},
     "output_type": "execute_result"
    }
   ],
   "source": [
    "df.groupby('Group').describe()"
   ]
  },
  {
   "cell_type": "code",
   "execution_count": 27,
   "id": "bc343336",
   "metadata": {},
   "outputs": [
    {
     "data": {
      "text/html": [
       "<div>\n",
       "<style scoped>\n",
       "    .dataframe tbody tr th:only-of-type {\n",
       "        vertical-align: middle;\n",
       "    }\n",
       "\n",
       "    .dataframe tbody tr th {\n",
       "        vertical-align: top;\n",
       "    }\n",
       "\n",
       "    .dataframe thead tr th {\n",
       "        text-align: left;\n",
       "    }\n",
       "\n",
       "    .dataframe thead tr:last-of-type th {\n",
       "        text-align: right;\n",
       "    }\n",
       "</style>\n",
       "<table border=\"1\" class=\"dataframe\">\n",
       "  <thead>\n",
       "    <tr>\n",
       "      <th></th>\n",
       "      <th colspan=\"8\" halign=\"left\">Page Views</th>\n",
       "    </tr>\n",
       "    <tr>\n",
       "      <th></th>\n",
       "      <th>count</th>\n",
       "      <th>mean</th>\n",
       "      <th>std</th>\n",
       "      <th>min</th>\n",
       "      <th>25%</th>\n",
       "      <th>50%</th>\n",
       "      <th>75%</th>\n",
       "      <th>max</th>\n",
       "    </tr>\n",
       "    <tr>\n",
       "      <th>Group</th>\n",
       "      <th></th>\n",
       "      <th></th>\n",
       "      <th></th>\n",
       "      <th></th>\n",
       "      <th></th>\n",
       "      <th></th>\n",
       "      <th></th>\n",
       "      <th></th>\n",
       "    </tr>\n",
       "  </thead>\n",
       "  <tbody>\n",
       "    <tr>\n",
       "      <th>A</th>\n",
       "      <td>2519.0</td>\n",
       "      <td>7.581580</td>\n",
       "      <td>4.080066</td>\n",
       "      <td>1.0</td>\n",
       "      <td>4.0</td>\n",
       "      <td>8.0</td>\n",
       "      <td>11.0</td>\n",
       "      <td>14.0</td>\n",
       "    </tr>\n",
       "    <tr>\n",
       "      <th>B</th>\n",
       "      <td>2481.0</td>\n",
       "      <td>7.492946</td>\n",
       "      <td>3.963448</td>\n",
       "      <td>1.0</td>\n",
       "      <td>4.0</td>\n",
       "      <td>8.0</td>\n",
       "      <td>11.0</td>\n",
       "      <td>14.0</td>\n",
       "    </tr>\n",
       "  </tbody>\n",
       "</table>\n",
       "</div>"
      ],
      "text/plain": [
       "      Page Views                                               \n",
       "           count      mean       std  min  25%  50%   75%   max\n",
       "Group                                                          \n",
       "A         2519.0  7.581580  4.080066  1.0  4.0  8.0  11.0  14.0\n",
       "B         2481.0  7.492946  3.963448  1.0  4.0  8.0  11.0  14.0"
      ]
     },
     "execution_count": 27,
     "metadata": {},
     "output_type": "execute_result"
    }
   ],
   "source": [
    "df[['Page Views','Group']].groupby('Group').describe()"
   ]
  },
  {
   "cell_type": "code",
   "execution_count": 28,
   "id": "8799fdcf",
   "metadata": {},
   "outputs": [
    {
     "data": {
      "text/html": [
       "<div>\n",
       "<style scoped>\n",
       "    .dataframe tbody tr th:only-of-type {\n",
       "        vertical-align: middle;\n",
       "    }\n",
       "\n",
       "    .dataframe tbody tr th {\n",
       "        vertical-align: top;\n",
       "    }\n",
       "\n",
       "    .dataframe thead tr th {\n",
       "        text-align: left;\n",
       "    }\n",
       "\n",
       "    .dataframe thead tr:last-of-type th {\n",
       "        text-align: right;\n",
       "    }\n",
       "</style>\n",
       "<table border=\"1\" class=\"dataframe\">\n",
       "  <thead>\n",
       "    <tr>\n",
       "      <th></th>\n",
       "      <th colspan=\"8\" halign=\"left\">Time Spent</th>\n",
       "    </tr>\n",
       "    <tr>\n",
       "      <th></th>\n",
       "      <th>count</th>\n",
       "      <th>mean</th>\n",
       "      <th>std</th>\n",
       "      <th>min</th>\n",
       "      <th>25%</th>\n",
       "      <th>50%</th>\n",
       "      <th>75%</th>\n",
       "      <th>max</th>\n",
       "    </tr>\n",
       "    <tr>\n",
       "      <th>Group</th>\n",
       "      <th></th>\n",
       "      <th></th>\n",
       "      <th></th>\n",
       "      <th></th>\n",
       "      <th></th>\n",
       "      <th></th>\n",
       "      <th></th>\n",
       "      <th></th>\n",
       "    </tr>\n",
       "  </thead>\n",
       "  <tbody>\n",
       "    <tr>\n",
       "      <th>A</th>\n",
       "      <td>2519.0</td>\n",
       "      <td>241.733227</td>\n",
       "      <td>117.340026</td>\n",
       "      <td>40.0</td>\n",
       "      <td>137.5</td>\n",
       "      <td>241.0</td>\n",
       "      <td>343.0</td>\n",
       "      <td>449.0</td>\n",
       "    </tr>\n",
       "    <tr>\n",
       "      <th>B</th>\n",
       "      <td>2481.0</td>\n",
       "      <td>243.303910</td>\n",
       "      <td>119.193552</td>\n",
       "      <td>40.0</td>\n",
       "      <td>136.0</td>\n",
       "      <td>244.0</td>\n",
       "      <td>348.0</td>\n",
       "      <td>449.0</td>\n",
       "    </tr>\n",
       "  </tbody>\n",
       "</table>\n",
       "</div>"
      ],
      "text/plain": [
       "      Time Spent                                                          \n",
       "           count        mean         std   min    25%    50%    75%    max\n",
       "Group                                                                     \n",
       "A         2519.0  241.733227  117.340026  40.0  137.5  241.0  343.0  449.0\n",
       "B         2481.0  243.303910  119.193552  40.0  136.0  244.0  348.0  449.0"
      ]
     },
     "execution_count": 28,
     "metadata": {},
     "output_type": "execute_result"
    }
   ],
   "source": [
    "df[['Time Spent','Group']].groupby('Group').describe()"
   ]
  },
  {
   "cell_type": "code",
   "execution_count": 29,
   "id": "791865db",
   "metadata": {},
   "outputs": [
    {
     "data": {
      "text/html": [
       "<div>\n",
       "<style scoped>\n",
       "    .dataframe tbody tr th:only-of-type {\n",
       "        vertical-align: middle;\n",
       "    }\n",
       "\n",
       "    .dataframe tbody tr th {\n",
       "        vertical-align: top;\n",
       "    }\n",
       "\n",
       "    .dataframe thead tr th {\n",
       "        text-align: left;\n",
       "    }\n",
       "\n",
       "    .dataframe thead tr:last-of-type th {\n",
       "        text-align: right;\n",
       "    }\n",
       "</style>\n",
       "<table border=\"1\" class=\"dataframe\">\n",
       "  <thead>\n",
       "    <tr>\n",
       "      <th></th>\n",
       "      <th colspan=\"8\" halign=\"left\">Conversion</th>\n",
       "    </tr>\n",
       "    <tr>\n",
       "      <th></th>\n",
       "      <th>count</th>\n",
       "      <th>mean</th>\n",
       "      <th>std</th>\n",
       "      <th>min</th>\n",
       "      <th>25%</th>\n",
       "      <th>50%</th>\n",
       "      <th>75%</th>\n",
       "      <th>max</th>\n",
       "    </tr>\n",
       "    <tr>\n",
       "      <th>Group</th>\n",
       "      <th></th>\n",
       "      <th></th>\n",
       "      <th></th>\n",
       "      <th></th>\n",
       "      <th></th>\n",
       "      <th></th>\n",
       "      <th></th>\n",
       "      <th></th>\n",
       "    </tr>\n",
       "  </thead>\n",
       "  <tbody>\n",
       "    <tr>\n",
       "      <th>A</th>\n",
       "      <td>2519.0</td>\n",
       "      <td>0.053990</td>\n",
       "      <td>0.226042</td>\n",
       "      <td>0.0</td>\n",
       "      <td>0.0</td>\n",
       "      <td>0.0</td>\n",
       "      <td>0.0</td>\n",
       "      <td>1.0</td>\n",
       "    </tr>\n",
       "    <tr>\n",
       "      <th>B</th>\n",
       "      <td>2481.0</td>\n",
       "      <td>0.140669</td>\n",
       "      <td>0.347750</td>\n",
       "      <td>0.0</td>\n",
       "      <td>0.0</td>\n",
       "      <td>0.0</td>\n",
       "      <td>0.0</td>\n",
       "      <td>1.0</td>\n",
       "    </tr>\n",
       "  </tbody>\n",
       "</table>\n",
       "</div>"
      ],
      "text/plain": [
       "      Conversion                                             \n",
       "           count      mean       std  min  25%  50%  75%  max\n",
       "Group                                                        \n",
       "A         2519.0  0.053990  0.226042  0.0  0.0  0.0  0.0  1.0\n",
       "B         2481.0  0.140669  0.347750  0.0  0.0  0.0  0.0  1.0"
      ]
     },
     "execution_count": 29,
     "metadata": {},
     "output_type": "execute_result"
    }
   ],
   "source": [
    "df[['Conversion','Group']].groupby('Group').describe()"
   ]
  },
  {
   "cell_type": "code",
   "execution_count": 30,
   "id": "d4ffe61c",
   "metadata": {},
   "outputs": [
    {
     "data": {
      "text/plain": [
       "Group  Conversion\n",
       "A      0             0.946010\n",
       "       1             0.053990\n",
       "B      0             0.859331\n",
       "       1             0.140669\n",
       "Name: proportion, dtype: float64"
      ]
     },
     "execution_count": 30,
     "metadata": {},
     "output_type": "execute_result"
    }
   ],
   "source": [
    "df.groupby('Group')['Conversion'].value_counts(normalize=True)"
   ]
  },
  {
   "cell_type": "code",
   "execution_count": 31,
   "id": "7388f14f",
   "metadata": {},
   "outputs": [
    {
     "data": {
      "text/html": [
       "<div>\n",
       "<style scoped>\n",
       "    .dataframe tbody tr th:only-of-type {\n",
       "        vertical-align: middle;\n",
       "    }\n",
       "\n",
       "    .dataframe tbody tr th {\n",
       "        vertical-align: top;\n",
       "    }\n",
       "\n",
       "    .dataframe thead tr th {\n",
       "        text-align: left;\n",
       "    }\n",
       "\n",
       "    .dataframe thead tr:last-of-type th {\n",
       "        text-align: right;\n",
       "    }\n",
       "</style>\n",
       "<table border=\"1\" class=\"dataframe\">\n",
       "  <thead>\n",
       "    <tr>\n",
       "      <th></th>\n",
       "      <th colspan=\"8\" halign=\"left\">Device</th>\n",
       "    </tr>\n",
       "    <tr>\n",
       "      <th></th>\n",
       "      <th>count</th>\n",
       "      <th>mean</th>\n",
       "      <th>std</th>\n",
       "      <th>min</th>\n",
       "      <th>25%</th>\n",
       "      <th>50%</th>\n",
       "      <th>75%</th>\n",
       "      <th>max</th>\n",
       "    </tr>\n",
       "    <tr>\n",
       "      <th>Group</th>\n",
       "      <th></th>\n",
       "      <th></th>\n",
       "      <th></th>\n",
       "      <th></th>\n",
       "      <th></th>\n",
       "      <th></th>\n",
       "      <th></th>\n",
       "      <th></th>\n",
       "    </tr>\n",
       "  </thead>\n",
       "  <tbody>\n",
       "    <tr>\n",
       "      <th>A</th>\n",
       "      <td>2519.0</td>\n",
       "      <td>0.506153</td>\n",
       "      <td>0.500061</td>\n",
       "      <td>0.0</td>\n",
       "      <td>0.0</td>\n",
       "      <td>1.0</td>\n",
       "      <td>1.0</td>\n",
       "      <td>1.0</td>\n",
       "    </tr>\n",
       "    <tr>\n",
       "      <th>B</th>\n",
       "      <td>2481.0</td>\n",
       "      <td>0.478436</td>\n",
       "      <td>0.499635</td>\n",
       "      <td>0.0</td>\n",
       "      <td>0.0</td>\n",
       "      <td>0.0</td>\n",
       "      <td>1.0</td>\n",
       "      <td>1.0</td>\n",
       "    </tr>\n",
       "  </tbody>\n",
       "</table>\n",
       "</div>"
      ],
      "text/plain": [
       "       Device                                             \n",
       "        count      mean       std  min  25%  50%  75%  max\n",
       "Group                                                     \n",
       "A      2519.0  0.506153  0.500061  0.0  0.0  1.0  1.0  1.0\n",
       "B      2481.0  0.478436  0.499635  0.0  0.0  0.0  1.0  1.0"
      ]
     },
     "execution_count": 31,
     "metadata": {},
     "output_type": "execute_result"
    }
   ],
   "source": [
    "df[['Device','Group']].groupby('Group').describe()"
   ]
  },
  {
   "cell_type": "code",
   "execution_count": 32,
   "id": "264ec2ff",
   "metadata": {},
   "outputs": [
    {
     "data": {
      "text/html": [
       "<div>\n",
       "<style scoped>\n",
       "    .dataframe tbody tr th:only-of-type {\n",
       "        vertical-align: middle;\n",
       "    }\n",
       "\n",
       "    .dataframe tbody tr th {\n",
       "        vertical-align: top;\n",
       "    }\n",
       "\n",
       "    .dataframe thead tr th {\n",
       "        text-align: left;\n",
       "    }\n",
       "\n",
       "    .dataframe thead tr:last-of-type th {\n",
       "        text-align: right;\n",
       "    }\n",
       "</style>\n",
       "<table border=\"1\" class=\"dataframe\">\n",
       "  <thead>\n",
       "    <tr>\n",
       "      <th></th>\n",
       "      <th colspan=\"8\" halign=\"left\">Location</th>\n",
       "    </tr>\n",
       "    <tr>\n",
       "      <th></th>\n",
       "      <th>count</th>\n",
       "      <th>mean</th>\n",
       "      <th>std</th>\n",
       "      <th>min</th>\n",
       "      <th>25%</th>\n",
       "      <th>50%</th>\n",
       "      <th>75%</th>\n",
       "      <th>max</th>\n",
       "    </tr>\n",
       "    <tr>\n",
       "      <th>Group</th>\n",
       "      <th></th>\n",
       "      <th></th>\n",
       "      <th></th>\n",
       "      <th></th>\n",
       "      <th></th>\n",
       "      <th></th>\n",
       "      <th></th>\n",
       "      <th></th>\n",
       "    </tr>\n",
       "  </thead>\n",
       "  <tbody>\n",
       "    <tr>\n",
       "      <th>A</th>\n",
       "      <td>2519.0</td>\n",
       "      <td>1.524811</td>\n",
       "      <td>1.109243</td>\n",
       "      <td>0.0</td>\n",
       "      <td>1.0</td>\n",
       "      <td>2.0</td>\n",
       "      <td>2.0</td>\n",
       "      <td>3.0</td>\n",
       "    </tr>\n",
       "    <tr>\n",
       "      <th>B</th>\n",
       "      <td>2481.0</td>\n",
       "      <td>1.473599</td>\n",
       "      <td>1.118488</td>\n",
       "      <td>0.0</td>\n",
       "      <td>0.0</td>\n",
       "      <td>1.0</td>\n",
       "      <td>2.0</td>\n",
       "      <td>3.0</td>\n",
       "    </tr>\n",
       "  </tbody>\n",
       "</table>\n",
       "</div>"
      ],
      "text/plain": [
       "      Location                                             \n",
       "         count      mean       std  min  25%  50%  75%  max\n",
       "Group                                                      \n",
       "A       2519.0  1.524811  1.109243  0.0  1.0  2.0  2.0  3.0\n",
       "B       2481.0  1.473599  1.118488  0.0  0.0  1.0  2.0  3.0"
      ]
     },
     "execution_count": 32,
     "metadata": {},
     "output_type": "execute_result"
    }
   ],
   "source": [
    "df[['Location','Group']].groupby('Group').describe()"
   ]
  },
  {
   "cell_type": "markdown",
   "id": "aeac6301",
   "metadata": {},
   "source": [
    "#### 장치와 장소에 대한 분석"
   ]
  },
  {
   "cell_type": "code",
   "execution_count": 33,
   "id": "f03b3cc7",
   "metadata": {},
   "outputs": [
    {
     "data": {
      "image/png": "[encoded data removed]",
      "text/plain": [
       "<Figure size 720x432 with 2 Axes>"
      ]
     },
     "metadata": {
      "needs_background": "light"
     },
     "output_type": "display_data"
    }
   ],
   "source": [
    "positive_conversion = df[df['Conversion']==1].reset_index(drop=True)\n",
    "grouped_counts = positive_conversion.groupby(['Group','Device','Location'])['Conversion'].count().reset_index(name='Count')\n",
    "\n",
    "pivot_table = grouped_counts.pivot_table(index='Group', columns=['Device','Location'], values='Count')\n",
    "\n",
    "plt.figure(figsize=(10,6))\n",
    "sns.heatmap(pivot_table,annot=True,cmap='YlGnBu')\n",
    "plt.title(\"Heat map of positive conversion\")\n",
    "plt.show()"
   ]
  },
  {
   "cell_type": "markdown",
   "id": "81624b3e",
   "metadata": {},
   "source": [
    "'England':0,'Northern Ireland':1,'Scotland':2,'Wales':3\n",
    "\n",
    "'Desktop':0, 'Mobile':1\n",
    "\n",
    "비율이 아니라 단순이 전환한 사람수를 카운트 한 것이다."
   ]
  },
  {
   "cell_type": "code",
   "execution_count": 34,
   "id": "dd87b70e",
   "metadata": {},
   "outputs": [
    {
     "data": {
      "image/png": "[encoded data removed]",
      "text/plain": [
       "<Figure size 762.375x360 with 2 Axes>"
      ]
     },
     "metadata": {
      "needs_background": "light"
     },
     "output_type": "display_data"
    }
   ],
   "source": [
    "graph = sns.catplot(data=grouped_counts, x='Location',y='Count',hue='Device',kind='bar',col='Group')\n",
    "graph.fig.suptitle('Amount of positive conversions by device & location')\n",
    "graph.fig.subplots_adjust(top=0.85)\n",
    "plt.show()"
   ]
  },
  {
   "cell_type": "markdown",
   "id": "ec2954dd",
   "metadata": {},
   "source": [
    "어떤 장소-장치 조합이던간에 그룹 B에서가 더 많은 전환이 일어난 것을 확인할 수 있다."
   ]
  },
  {
   "cell_type": "markdown",
   "id": "b062b186",
   "metadata": {},
   "source": [
    "## 사용하는 검정법 - 독립표본 t검정"
   ]
  },
  {
   "cell_type": "markdown",
   "id": "18c589a7",
   "metadata": {},
   "source": [
    "두개의 독립된 모집단의 평균을 비교하기 위해 사용한다. -> 본 예시에서는 두 모집단 A,B 에서 배경색깔에 대해 전환률의 차이가 있는지 확인하는 것이기 때문에 적합하다."
   ]
  },
  {
   "cell_type": "markdown",
   "id": "6ce4946b",
   "metadata": {},
   "source": [
    "## 1. 가정\n",
    "1) 정규성 만족 - 표본의 크기가 충분히 큰지 확인 \n",
    "\n",
    "보통 표본의 크기가 30 이상일때 정규성을 만족한다고 본다.\n",
    "\n",
    "2) 두 모집단이 서로 독립적\n",
    "\n",
    "3) 두 모집단의 분산이 같음을 만족하는 등 분산성 가정을 만족.(두 독립 집단의 모분산이 동일해야 함을 의미. 검정통계량 계산 전에 등분산 검정을 먼저 수행해야 함)\n",
    "\n",
    "4) 독립변수는 범주형, 종속변수는 연속형이여야 한다."
   ]
  },
  {
   "cell_type": "markdown",
   "id": "e663d269",
   "metadata": {},
   "source": [
    "## 2. 단계"
   ]
  },
  {
   "cell_type": "markdown",
   "id": "dec729f4",
   "metadata": {},
   "source": [
    "### 1) 가설 설정 \n",
    "\n",
    "모수 : 두 집단의 평균(전환률)\n",
    "\n",
    "귀무가설 : 두 집단간의 평균에는 차이가 없다.\n",
    "\n",
    "대립가설 : 두 집단간의 평균에는 차이가 있다.(유의미하다)"
   ]
  },
  {
   "cell_type": "markdown",
   "id": "7050b0ee",
   "metadata": {},
   "source": [
    "### 2) 유의수준 설정\n",
    "\n",
    "유의수준은 보통 0.05의 값을 사용한다. 이는 역사적/실용적 이유로 신뢰성과 실용성을 균형있게 고려한 값이다.(5%의 오류를 허용한다)\n",
    "\n",
    "높은 신뢰성이 요구되는 경우 더 낮은 유의수준을 가지기도 한다."
   ]
  },
  {
   "cell_type": "markdown",
   "id": "2235fc6d",
   "metadata": {},
   "source": [
    "### 3) 등분산 검정\n",
    "\n",
    "레빈 테스트를 통해 등분산을 검정한다\n",
    "\n",
    "귀무가설 : 두 집단의 분산이 동일하다.\n",
    "\n",
    "대립가설 : 두 집단의 분산이 동일하지 않다."
   ]
  },
  {
   "cell_type": "code",
   "execution_count": 35,
   "id": "9e764962",
   "metadata": {},
   "outputs": [],
   "source": [
    "from scipy.stats import levene\n",
    "\n",
    "stat,p = levene(df_A['Conversion'],df_B['Conversion'])"
   ]
  },
  {
   "cell_type": "code",
   "execution_count": 36,
   "id": "33e4bb2d",
   "metadata": {},
   "outputs": [
    {
     "data": {
      "text/plain": [
       "np.float64(2.278437788500658e-25)"
      ]
     },
     "execution_count": 36,
     "metadata": {},
     "output_type": "execute_result"
    }
   ],
   "source": [
    "p"
   ]
  },
  {
   "cell_type": "markdown",
   "id": "b42e1e56",
   "metadata": {},
   "source": [
    "p값이 유의수준보다 작으므로 귀무가설을 기각하고 대립가설을 채택한다.\n",
    "\n",
    "이에 따라 t검정은 등분산을 가정하지 않는다."
   ]
  },
  {
   "cell_type": "markdown",
   "id": "304b8f4c",
   "metadata": {},
   "source": [
    "### 4) 검정 통계랑의 값 및 유의확률 계산"
   ]
  },
  {
   "cell_type": "code",
   "execution_count": 37,
   "id": "33f49635",
   "metadata": {},
   "outputs": [],
   "source": [
    "from scipy.stats import ttest_ind"
   ]
  },
  {
   "cell_type": "code",
   "execution_count": 38,
   "id": "017f88fc",
   "metadata": {},
   "outputs": [],
   "source": [
    "t_stat,p_value = ttest_ind(df_A['Conversion'],df_B['Conversion'],equal_var=False)"
   ]
  },
  {
   "cell_type": "code",
   "execution_count": 39,
   "id": "e0079c3a",
   "metadata": {},
   "outputs": [
    {
     "data": {
      "text/plain": [
       "np.float64(-10.432983883982358)"
      ]
     },
     "execution_count": 39,
     "metadata": {},
     "output_type": "execute_result"
    }
   ],
   "source": [
    "t_stat"
   ]
  },
  {
   "cell_type": "code",
   "execution_count": 40,
   "id": "fce441a8",
   "metadata": {},
   "outputs": [
    {
     "data": {
      "text/plain": [
       "np.float64(3.5230423787403033e-25)"
      ]
     },
     "execution_count": 40,
     "metadata": {},
     "output_type": "execute_result"
    }
   ],
   "source": [
    "p_value"
   ]
  },
  {
   "cell_type": "markdown",
   "id": "4973bdb0",
   "metadata": {},
   "source": [
    "### 5) 기각여부 판단 및 의사결정 "
   ]
  },
  {
   "cell_type": "markdown",
   "id": "c18f3365",
   "metadata": {},
   "source": [
    "p_value가 유의수준인 0.05를 넘지 않으므로 귀무가설을 기각한다. 두 집단에서 전환률의 차이는 유의미하며, t값이 -10.4이기 때문에 그룹 B일때의 전환률이 더 크다는 것을 의미한다."
   ]
  },
  {
   "cell_type": "markdown",
   "id": "bbf70549",
   "metadata": {},
   "source": [
    "따라서 두 그룹  A,B에서 배경화면의 차이에 따른 전환률이 다르다 라는 가정은 유의미한 것으로 판단되며, 흰 배경일 때 보다 검정 배경일 때가 더 높다."
   ]
  },
  {
   "cell_type": "markdown",
   "id": "9a61f166",
   "metadata": {},
   "source": [
    "## 모델 설렉션"
   ]
  },
  {
   "cell_type": "code",
   "execution_count": 41,
   "id": "2d16b24b",
   "metadata": {},
   "outputs": [
    {
     "name": "stdout",
     "output_type": "stream",
     "text": [
      "Requirement already satisfied: scikit-learn in c:\\users\\wxlov\\appdata\\local\\programs\\python\\python310\\lib\\site-packages (1.6.0)\n",
      "Requirement already satisfied: numpy>=1.19.5 in c:\\users\\wxlov\\appdata\\local\\programs\\python\\python310\\lib\\site-packages (from scikit-learn) (2.2.1)\n",
      "Requirement already satisfied: scipy>=1.6.0 in c:\\users\\wxlov\\appdata\\local\\programs\\python\\python310\\lib\\site-packages (from scikit-learn) (1.15.0)\n",
      "Requirement already satisfied: joblib>=1.2.0 in c:\\users\\wxlov\\appdata\\local\\programs\\python\\python310\\lib\\site-packages (from scikit-learn) (1.4.2)\n",
      "Requirement already satisfied: threadpoolctl>=3.1.0 in c:\\users\\wxlov\\appdata\\local\\programs\\python\\python310\\lib\\site-packages (from scikit-learn) (3.5.0)\n"
     ]
    }
   ],
   "source": [
    "!pip install scikit-learn"
   ]
  },
  {
   "cell_type": "code",
   "execution_count": 42,
   "id": "5c191a8b",
   "metadata": {},
   "outputs": [],
   "source": [
    "%matplotlib inline"
   ]
  },
  {
   "cell_type": "code",
   "execution_count": 43,
   "id": "7a1bb3f4",
   "metadata": {},
   "outputs": [],
   "source": [
    "import warnings\n",
    "warnings.filterwarnings('ignore')"
   ]
  },
  {
   "cell_type": "code",
   "execution_count": 45,
   "id": "563625ef",
   "metadata": {
    "scrolled": false
   },
   "outputs": [],
   "source": [
    "from sklearn.model_selection import train_test_split"
   ]
  },
  {
   "cell_type": "markdown",
   "id": "1bc77375",
   "metadata": {},
   "source": [
    "#### 2-1) 모델 선택 - 단일 모델"
   ]
  },
  {
   "cell_type": "markdown",
   "id": "5db54aeb",
   "metadata": {},
   "source": [
    "단일 모델들에 대해서 평가해보고 K-fold를 통해 평가\n",
    "\n",
    "사용하는 모델은 선형 회귀, 로지스틱 회귀, 결정트리, 랜덤포레스트, GBM(그레디언트 부스팅 머신), SVM(서포트 벡터 머신), KNN(K-최근접 이웃), ANN(인공신경망), CNN(컨볼루션 신경망), RNN(순환신경망), 나이브 베이즈, XGBoost, K평균, DBSCAN 등이 있다."
   ]
  },
  {
   "cell_type": "code",
   "execution_count": 46,
   "id": "a999cdfb",
   "metadata": {},
   "outputs": [],
   "source": [
    "from sklearn.metrics import accuracy_score,classification_report, roc_auc_score,roc_curve\n",
    "from sklearn.model_selection import cross_val_score\n",
    "from sklearn.ensemble import RandomForestClassifier, GradientBoostingClassifier, AdaBoostClassifier\n",
    "from sklearn.linear_model import LogisticRegression\n",
    "from sklearn.tree import DecisionTreeClassifier\n",
    "from sklearn.svm import SVC\n",
    "from sklearn.neighbors import KNeighborsClassifier\n",
    "from sklearn.naive_bayes import GaussianNB\n",
    "from xgboost import XGBClassifier"
   ]
  },
  {
   "cell_type": "code",
   "execution_count": 68,
   "id": "ac284738",
   "metadata": {
    "scrolled": true
   },
   "outputs": [],
   "source": [
    "models = {\n",
    "    \"Logistic Regression\" : LogisticRegression(max_iter=1000),\n",
    "    \"Random Forest\" : RandomForestClassifier(),\n",
    "    \"SVM\" : SVC(probability=True),\n",
    "    \"Decision Tree\" : DecisionTreeClassifier(),\n",
    "    \"K-Nearest Neighbors\" : KNeighborsClassifier(),\n",
    "    \"XGBoost\": XGBClassifier(use_label_encoder=False, eval_metric='mlogloss')\n",
    "}"
   ]
  },
  {
   "cell_type": "markdown",
   "id": "8b5d5d68",
   "metadata": {},
   "source": [
    "로지스틱 회귀에서 설정하는 값인 max_iter=1000 는 최적화를 수행할 최대 반복 횟수를 의미한다. 반복 횟수가 너무 많아지지 않도록 상한선을 제공하고, 최적화에 수렴하면 횟수를 만족하지 않아도 학습이 완료된다.\n",
    "\n",
    "작은 데이터 셋에서는 1000회 정도가 적당하다."
   ]
  },
  {
   "cell_type": "code",
   "execution_count": 48,
   "id": "ea326f9c",
   "metadata": {},
   "outputs": [],
   "source": [
    "df['Group'] = df['Group'].map({'A':0, 'B':1})"
   ]
  },
  {
   "cell_type": "code",
   "execution_count": 49,
   "id": "bd44a78b",
   "metadata": {},
   "outputs": [
    {
     "data": {
      "text/html": [
       "<div>\n",
       "<style scoped>\n",
       "    .dataframe tbody tr th:only-of-type {\n",
       "        vertical-align: middle;\n",
       "    }\n",
       "\n",
       "    .dataframe tbody tr th {\n",
       "        vertical-align: top;\n",
       "    }\n",
       "\n",
       "    .dataframe thead th {\n",
       "        text-align: right;\n",
       "    }\n",
       "</style>\n",
       "<table border=\"1\" class=\"dataframe\">\n",
       "  <thead>\n",
       "    <tr style=\"text-align: right;\">\n",
       "      <th></th>\n",
       "      <th>Group</th>\n",
       "      <th>Page Views</th>\n",
       "      <th>Time Spent</th>\n",
       "      <th>Conversion</th>\n",
       "      <th>Device</th>\n",
       "      <th>Location</th>\n",
       "    </tr>\n",
       "  </thead>\n",
       "  <tbody>\n",
       "    <tr>\n",
       "      <th>0</th>\n",
       "      <td>1</td>\n",
       "      <td>3</td>\n",
       "      <td>424</td>\n",
       "      <td>0</td>\n",
       "      <td>1</td>\n",
       "      <td>1</td>\n",
       "    </tr>\n",
       "    <tr>\n",
       "      <th>1</th>\n",
       "      <td>0</td>\n",
       "      <td>9</td>\n",
       "      <td>342</td>\n",
       "      <td>0</td>\n",
       "      <td>1</td>\n",
       "      <td>2</td>\n",
       "    </tr>\n",
       "    <tr>\n",
       "      <th>2</th>\n",
       "      <td>0</td>\n",
       "      <td>2</td>\n",
       "      <td>396</td>\n",
       "      <td>0</td>\n",
       "      <td>0</td>\n",
       "      <td>1</td>\n",
       "    </tr>\n",
       "    <tr>\n",
       "      <th>3</th>\n",
       "      <td>1</td>\n",
       "      <td>4</td>\n",
       "      <td>318</td>\n",
       "      <td>0</td>\n",
       "      <td>0</td>\n",
       "      <td>3</td>\n",
       "    </tr>\n",
       "    <tr>\n",
       "      <th>4</th>\n",
       "      <td>0</td>\n",
       "      <td>1</td>\n",
       "      <td>338</td>\n",
       "      <td>1</td>\n",
       "      <td>0</td>\n",
       "      <td>2</td>\n",
       "    </tr>\n",
       "  </tbody>\n",
       "</table>\n",
       "</div>"
      ],
      "text/plain": [
       "   Group  Page Views  Time Spent  Conversion  Device  Location\n",
       "0      1           3         424           0       1         1\n",
       "1      0           9         342           0       1         2\n",
       "2      0           2         396           0       0         1\n",
       "3      1           4         318           0       0         3\n",
       "4      0           1         338           1       0         2"
      ]
     },
     "execution_count": 49,
     "metadata": {},
     "output_type": "execute_result"
    }
   ],
   "source": [
    "df.head()"
   ]
  },
  {
   "cell_type": "code",
   "execution_count": 50,
   "id": "918e47f4",
   "metadata": {},
   "outputs": [],
   "source": [
    "X = df.drop(columns='Conversion')"
   ]
  },
  {
   "cell_type": "code",
   "execution_count": 51,
   "id": "9b95f8bb",
   "metadata": {},
   "outputs": [
    {
     "data": {
      "text/html": [
       "<div>\n",
       "<style scoped>\n",
       "    .dataframe tbody tr th:only-of-type {\n",
       "        vertical-align: middle;\n",
       "    }\n",
       "\n",
       "    .dataframe tbody tr th {\n",
       "        vertical-align: top;\n",
       "    }\n",
       "\n",
       "    .dataframe thead th {\n",
       "        text-align: right;\n",
       "    }\n",
       "</style>\n",
       "<table border=\"1\" class=\"dataframe\">\n",
       "  <thead>\n",
       "    <tr style=\"text-align: right;\">\n",
       "      <th></th>\n",
       "      <th>Group</th>\n",
       "      <th>Page Views</th>\n",
       "      <th>Time Spent</th>\n",
       "      <th>Device</th>\n",
       "      <th>Location</th>\n",
       "    </tr>\n",
       "  </thead>\n",
       "  <tbody>\n",
       "    <tr>\n",
       "      <th>0</th>\n",
       "      <td>1</td>\n",
       "      <td>3</td>\n",
       "      <td>424</td>\n",
       "      <td>1</td>\n",
       "      <td>1</td>\n",
       "    </tr>\n",
       "    <tr>\n",
       "      <th>1</th>\n",
       "      <td>0</td>\n",
       "      <td>9</td>\n",
       "      <td>342</td>\n",
       "      <td>1</td>\n",
       "      <td>2</td>\n",
       "    </tr>\n",
       "    <tr>\n",
       "      <th>2</th>\n",
       "      <td>0</td>\n",
       "      <td>2</td>\n",
       "      <td>396</td>\n",
       "      <td>0</td>\n",
       "      <td>1</td>\n",
       "    </tr>\n",
       "    <tr>\n",
       "      <th>3</th>\n",
       "      <td>1</td>\n",
       "      <td>4</td>\n",
       "      <td>318</td>\n",
       "      <td>0</td>\n",
       "      <td>3</td>\n",
       "    </tr>\n",
       "    <tr>\n",
       "      <th>4</th>\n",
       "      <td>0</td>\n",
       "      <td>1</td>\n",
       "      <td>338</td>\n",
       "      <td>0</td>\n",
       "      <td>2</td>\n",
       "    </tr>\n",
       "  </tbody>\n",
       "</table>\n",
       "</div>"
      ],
      "text/plain": [
       "   Group  Page Views  Time Spent  Device  Location\n",
       "0      1           3         424       1         1\n",
       "1      0           9         342       1         2\n",
       "2      0           2         396       0         1\n",
       "3      1           4         318       0         3\n",
       "4      0           1         338       0         2"
      ]
     },
     "execution_count": 51,
     "metadata": {},
     "output_type": "execute_result"
    }
   ],
   "source": [
    "X.head()"
   ]
  },
  {
   "cell_type": "code",
   "execution_count": 52,
   "id": "6c4d0264",
   "metadata": {},
   "outputs": [],
   "source": [
    "y = df['Conversion']"
   ]
  },
  {
   "cell_type": "code",
   "execution_count": 64,
   "id": "0d87be1c",
   "metadata": {},
   "outputs": [],
   "source": [
    "X_train, X_test, y_train, y_test = train_test_split(X, y, test_size = 0.2, random_state= 42)"
   ]
  },
  {
   "cell_type": "code",
   "execution_count": 69,
   "id": "4fa02a75",
   "metadata": {},
   "outputs": [],
   "source": [
    "results = []\n",
    "\n",
    "for name, model in models.items():\n",
    "    model.fit(X_train, y_train)\n",
    "    \n",
    "    y_pred = model.predict(X_test)\n",
    "    y_pred_prob = model.predict_proba(X_test)[:,1] if hasattr(model, \"predict_proba\") else None\n",
    "    \n",
    "    accuracy = accuracy_score(y_test,y_pred)\n",
    "    report = classification_report(y_test, y_pred, output_dict=True)\n",
    "    roc_auc = roc_auc_score(y_test, y_pred_prob) if y_pred_prob is not None else None\n",
    "    \n",
    "    results.append({\n",
    "        \"Model\": name,\n",
    "        \"Accuracy\": accuracy,\n",
    "        \"Precision\": report[\"1\"][\"precision\"],\n",
    "        \"Recall\": report[\"1\"][\"recall\"],\n",
    "        \"F1-Score\": report[\"1\"][\"f1-score\"],\n",
    "        \"ROC-AUC\": roc_auc\n",
    "    })"
   ]
  },
  {
   "cell_type": "markdown",
   "id": "af4a2bec",
   "metadata": {},
   "source": [
    "y_pred_prob = model.predict_proba(X_test)[:,1] if hasattr(model, \"predict_proba\") else None\n",
    "\n",
    "hasattr을 통해 predict-proba라는 매서드를 가지고 있는지 확인하여 있다면 사용하고, 없다면 y_pred_prob를 None으로 설정한다.\n",
    "(SVR과 같은 최귀모델/ 일부 분류 알고리즘은 없음)\n",
    "즉 확률 기반의 예측값을 얻을 수 없다면 확률을 계산하지 않겠다 라는 뜻이다.\n",
    "\n",
    "model.predict_proba(X_test) 를 통해 모델이 각 클래스에 대해 예측한 확률을 반환한다.\n",
    "결과로 2차원 배열을 얻게 되는데 (샘플수, 클래스수) 의 형태이다\n",
    "\n",
    "예를 들어 100개의 샘플에 대해서 0과 1 두개의 클래스가 있다면 (100,2) 크기의 넘파이 배열을 반환한다.\n",
    "\n",
    "[:1]을 통해서 두번째 열(클래스 1에 대한 확률)만을 추출하여 양성 클래스 -> 해당 코드에서는 'Conversion'이 1일 확률들에 대한 배열을 얻는다. 이를 이용하여 ROC_AUC 계산할 수 있다.\n",
    "\n",
    "accuracy는 정확도를 계산한다.(전체 예측중에서 일치하는 비율)\n",
    "report는 precision, recall, f1-score을 종합적으로 보여준다.\n",
    "output_dict=True로 설정하면 딕셔너리의 형태로 반환한다."
   ]
  },
  {
   "cell_type": "code",
   "execution_count": 70,
   "id": "8916d4c6",
   "metadata": {},
   "outputs": [
    {
     "data": {
      "image/png": "[encoded data removed]",
      "text/plain": [
       "<Figure size 720x432 with 1 Axes>"
      ]
     },
     "metadata": {
      "needs_background": "light"
     },
     "output_type": "display_data"
    },
    {
     "data": {
      "image/png": "[encoded data removed]",
      "text/plain": [
       "<Figure size 720x432 with 1 Axes>"
      ]
     },
     "metadata": {
      "needs_background": "light"
     },
     "output_type": "display_data"
    },
    {
     "data": {
      "image/png": "[encoded data removed]",
      "text/plain": [
       "<Figure size 720x432 with 1 Axes>"
      ]
     },
     "metadata": {
      "needs_background": "light"
     },
     "output_type": "display_data"
    },
    {
     "data": {
      "image/png": "[encoded data removed]",
      "text/plain": [
       "<Figure size 720x432 with 1 Axes>"
      ]
     },
     "metadata": {
      "needs_background": "light"
     },
     "output_type": "display_data"
    },
    {
     "data": {
      "image/png": "[encoded data removed]",
      "text/plain": [
       "<Figure size 720x432 with 1 Axes>"
      ]
     },
     "metadata": {
      "needs_background": "light"
     },
     "output_type": "display_data"
    }
   ],
   "source": [
    "results_df = pd.DataFrame(results)\n",
    "\n",
    "metrics = ['Accuracy','Precision','Recall','F1-Score','ROC-AUC']\n",
    "\n",
    "for metric in metrics:\n",
    "    plt.figure(figsize=(10,6))\n",
    "    sns.barplot(x=\"Model\", y=metric, data=results_df.sort_values(by=metric,ascending=False), palette='viridis')\n",
    "    plt.title(f'{metric} by Model', fontsize=16)\n",
    "    plt.xticks(rotation=45)\n",
    "    plt.ylabel(metric)\n",
    "    plt.xlabel(\"Model\")\n",
    "    plt.show()"
   ]
  },
  {
   "cell_type": "code",
   "execution_count": 71,
   "id": "09a837c4",
   "metadata": {},
   "outputs": [
    {
     "data": {
      "text/html": [
       "<div>\n",
       "<style scoped>\n",
       "    .dataframe tbody tr th:only-of-type {\n",
       "        vertical-align: middle;\n",
       "    }\n",
       "\n",
       "    .dataframe tbody tr th {\n",
       "        vertical-align: top;\n",
       "    }\n",
       "\n",
       "    .dataframe thead th {\n",
       "        text-align: right;\n",
       "    }\n",
       "</style>\n",
       "<table border=\"1\" class=\"dataframe\">\n",
       "  <thead>\n",
       "    <tr style=\"text-align: right;\">\n",
       "      <th></th>\n",
       "      <th>Model</th>\n",
       "      <th>Accuracy</th>\n",
       "      <th>Precision</th>\n",
       "      <th>Recall</th>\n",
       "      <th>F1-Score</th>\n",
       "      <th>ROC-AUC</th>\n",
       "    </tr>\n",
       "  </thead>\n",
       "  <tbody>\n",
       "    <tr>\n",
       "      <th>0</th>\n",
       "      <td>Logistic Regression</td>\n",
       "      <td>0.892</td>\n",
       "      <td>0.000000</td>\n",
       "      <td>0.000000</td>\n",
       "      <td>0.000000</td>\n",
       "      <td>0.640565</td>\n",
       "    </tr>\n",
       "    <tr>\n",
       "      <th>2</th>\n",
       "      <td>SVM</td>\n",
       "      <td>0.892</td>\n",
       "      <td>0.000000</td>\n",
       "      <td>0.000000</td>\n",
       "      <td>0.000000</td>\n",
       "      <td>0.490808</td>\n",
       "    </tr>\n",
       "    <tr>\n",
       "      <th>5</th>\n",
       "      <td>XGBoost</td>\n",
       "      <td>0.887</td>\n",
       "      <td>0.222222</td>\n",
       "      <td>0.018519</td>\n",
       "      <td>0.034188</td>\n",
       "      <td>0.605511</td>\n",
       "    </tr>\n",
       "    <tr>\n",
       "      <th>4</th>\n",
       "      <td>K-Nearest Neighbors</td>\n",
       "      <td>0.887</td>\n",
       "      <td>0.222222</td>\n",
       "      <td>0.018519</td>\n",
       "      <td>0.034188</td>\n",
       "      <td>0.489256</td>\n",
       "    </tr>\n",
       "    <tr>\n",
       "      <th>1</th>\n",
       "      <td>Random Forest</td>\n",
       "      <td>0.866</td>\n",
       "      <td>0.204545</td>\n",
       "      <td>0.083333</td>\n",
       "      <td>0.118421</td>\n",
       "      <td>0.574775</td>\n",
       "    </tr>\n",
       "    <tr>\n",
       "      <th>3</th>\n",
       "      <td>Decision Tree</td>\n",
       "      <td>0.815</td>\n",
       "      <td>0.146789</td>\n",
       "      <td>0.148148</td>\n",
       "      <td>0.147465</td>\n",
       "      <td>0.520512</td>\n",
       "    </tr>\n",
       "  </tbody>\n",
       "</table>\n",
       "</div>"
      ],
      "text/plain": [
       "                 Model  Accuracy  Precision    Recall  F1-Score   ROC-AUC\n",
       "0  Logistic Regression     0.892   0.000000  0.000000  0.000000  0.640565\n",
       "2                  SVM     0.892   0.000000  0.000000  0.000000  0.490808\n",
       "5              XGBoost     0.887   0.222222  0.018519  0.034188  0.605511\n",
       "4  K-Nearest Neighbors     0.887   0.222222  0.018519  0.034188  0.489256\n",
       "1        Random Forest     0.866   0.204545  0.083333  0.118421  0.574775\n",
       "3        Decision Tree     0.815   0.146789  0.148148  0.147465  0.520512"
      ]
     },
     "execution_count": 71,
     "metadata": {},
     "output_type": "execute_result"
    }
   ],
   "source": [
    "results_df.sort_values(by='Accuracy', ascending=False)"
   ]
  },
  {
   "cell_type": "markdown",
   "id": "c0699420",
   "metadata": {},
   "source": [
    "accuracy(정확도) - 전체 예측중에서 맞게 예측된 비율(양성을 양성으로 + 음성을 음성으로)\n",
    "데이터에 클래스 불균형이 있는 경우 평가하기 어려움\n",
    "\n",
    "precision(정밀도) - 양성이라고 예측한 것들 중에서 실제로 양성인 비율(모델의 양성예측 비율이 얼나마 정확한가)\n",
    "ex) 스팸이라고 판단된 메일중에서 실제 스팸이 아니면 문제가 됨\n",
    "\n",
    "recall(재현율) - 실제 양성인 사례들 중에서 양성으로 예측한 비율(모델이 실제 양성을 놓치지 않고 잘 찾아냈는지)\n",
    "ex) 질병 환자를 놓치면 치명적\n",
    "\n",
    "F1-score - precision 과 recall의 조화평균(둘 모두 적절히 높은지 평가)\n",
    "\n",
    "ROC-AUR - ROC곡선 아래의 면적(0.5-1.0)\n",
    "1.0에 가까울수록 음성과 양성을 잘 구별, 0.5이면 랜덤예측 수준"
   ]
  },
  {
   "cell_type": "code",
   "execution_count": null,
   "id": "44b18967",
   "metadata": {},
   "outputs": [],
   "source": []
  }
 ],
 "metadata": {
  "kernelspec": {
   "display_name": "Python 3 (ipykernel)",
   "language": "python",
   "name": "python3"
  },
  "language_info": {
   "codemirror_mode": {
    "name": "ipython",
    "version": 3
   },
   "file_extension": ".py",
   "mimetype": "text/x-python",
   "name": "python",
   "nbconvert_exporter": "python",
   "pygments_lexer": "ipython3",
   "version": "3.10.3"
  }
 },
 "nbformat": 4,
 "nbformat_minor": 5
}
